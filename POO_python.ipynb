{
 "cells": [
  {
   "cell_type": "code",
   "execution_count": 25,
   "metadata": {},
   "outputs": [
    {
     "name": "stdout",
     "output_type": "stream",
     "text": [
      "Le nom de la matière est FR, Note1: 12.0, Note2: 12.5, La moyenne générale est 12.25\n"
     ]
    }
   ],
   "source": [
    "class Note:\n",
    "    def __init__(self, nom_devoir, note_devoir1, note_devoir2, note_examen):\n",
    "        self.nom_devoir = nom_devoir\n",
    "        self.note_devoir1 = float(note_devoir1)\n",
    "        self.note_devoir2 = float(note_devoir2)\n",
    "        self.note_examen = float(note_examen)\n",
    "        \n",
    "    def module(self):\n",
    "        print(\"Le nom de la matière est \" + self.nom_devoir + \", \" + self.note())\n",
    "        \n",
    "    def note(self):\n",
    "        moyenne_devoir = (self.note_devoir1 + self.note_devoir2) / 2\n",
    "        return \"Note1: \" + str(self.note_devoir1) + \", Note2: \" + str(self.note_devoir2) + \", La moyenne générale est \" + str(moyenne_devoir)\n",
    "        \n",
    "    def examen(self):\n",
    "        return \"La note de l'examen est \" + str(self.note_examen)\n",
    "\n",
    "nom_devoir = input(\"Entrez le nom de la matière: \")\n",
    "note_devoir1 = float(input(\"Entrez la première note de devoir: \"))\n",
    "note_devoir2 = float(input(\"Entrez la deuxième note de devoir: \"))\n",
    "note_examen = float(input(\"Entrez la note de l'examen: \"))\n",
    "\n",
    "note1 = Note(nom_devoir, note_devoir1, note_devoir2, note_examen)\n",
    "note1.module()"
   ]
  }
 ],
 "metadata": {
  "kernelspec": {
   "display_name": "Python 3",
   "language": "python",
   "name": "python3"
  },
  "language_info": {
   "codemirror_mode": {
    "name": "ipython",
    "version": 3
   },
   "file_extension": ".py",
   "mimetype": "text/x-python",
   "name": "python",
   "nbconvert_exporter": "python",
   "pygments_lexer": "ipython3",
   "version": "3.12.9"
  }
 },
 "nbformat": 4,
 "nbformat_minor": 2
}
